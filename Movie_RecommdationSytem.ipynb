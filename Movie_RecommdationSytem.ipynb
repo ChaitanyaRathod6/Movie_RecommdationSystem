{
  "nbformat": 4,
  "nbformat_minor": 0,
  "metadata": {
    "colab": {
      "provenance": []
    },
    "kernelspec": {
      "name": "python3",
      "display_name": "Python 3"
    },
    "language_info": {
      "name": "python"
    }
  },
  "cells": [
    {
      "cell_type": "code",
      "execution_count": null,
      "metadata": {
        "colab": {
          "base_uri": "https://localhost:8080/"
        },
        "id": "8H8OcnaRyPWO",
        "outputId": "d1164c1a-5aaa-4500-86ec-5292223140cb"
      },
      "outputs": [
        {
          "output_type": "stream",
          "name": "stdout",
          "text": [
            "Downloading from https://www.kaggle.com/api/v1/datasets/download/kianindeed/imdb-movie-dataset-dec-2023?dataset_version_number=1...\n"
          ]
        },
        {
          "output_type": "stream",
          "name": "stderr",
          "text": [
            "100%|██████████| 106k/106k [00:00<00:00, 19.1MB/s]"
          ]
        },
        {
          "output_type": "stream",
          "name": "stdout",
          "text": [
            "Extracting files...\n",
            "Path to dataset files: /root/.cache/kagglehub/datasets/kianindeed/imdb-movie-dataset-dec-2023/versions/1\n"
          ]
        },
        {
          "output_type": "stream",
          "name": "stderr",
          "text": [
            "\n"
          ]
        }
      ],
      "source": [
        "import kagglehub\n",
        "\n",
        "# Download latest version\n",
        "path = kagglehub.dataset_download(\"kianindeed/imdb-movie-dataset-dec-2023\")\n",
        "\n",
        "print(\"Path to dataset files:\", path)"
      ]
    },
    {
      "cell_type": "code",
      "source": [
        "import kagglehub\n",
        "import pandas as pd\n",
        "\n",
        "# Download latest version\n",
        "path = kagglehub.dataset_download(\"kianindeed/imdb-movie-dataset-dec-2023\")\n",
        "\n",
        "print(\"Path to dataset files:\", path)\n",
        "\n",
        "# Load the dataset\n",
        "# Use the path returned by kagglehub.dataset_download to construct the correct file path\n",
        "file_path = path + \"/imdb_movie_data_2023.csv\"  # Assuming the CSV file is named 'imdb_movie_data_2023.csv' within the downloaded dataset folder\n",
        "df = pd.read_csv(file_path)\n",
        "\n",
        "# Display basic info\n",
        "print(df.info())\n",
        "\n",
        "# Show first few rows\n",
        "df.head()\n"
      ],
      "metadata": {
        "colab": {
          "base_uri": "https://localhost:8080/",
          "height": 951
        },
        "id": "S78uRw5uy2IR",
        "outputId": "11f9a9d9-8c65-43b2-8762-6333528ae0a0"
      },
      "execution_count": null,
      "outputs": [
        {
          "output_type": "stream",
          "name": "stdout",
          "text": [
            "Path to dataset files: /root/.cache/kagglehub/datasets/kianindeed/imdb-movie-dataset-dec-2023/versions/1\n",
            "<class 'pandas.core.frame.DataFrame'>\n",
            "RangeIndex: 1950 entries, 0 to 1949\n",
            "Data columns (total 11 columns):\n",
            " #   Column      Non-Null Count  Dtype  \n",
            "---  ------      --------------  -----  \n",
            " 0   Unnamed: 0  1950 non-null   int64  \n",
            " 1   Moive Name  1950 non-null   object \n",
            " 2   Rating      1944 non-null   float64\n",
            " 3   Votes       1944 non-null   float64\n",
            " 4   Meta Score  1833 non-null   float64\n",
            " 5   Genre       1833 non-null   object \n",
            " 6   PG Rating   1874 non-null   object \n",
            " 7   Year        1950 non-null   int64  \n",
            " 8   Duration    1948 non-null   object \n",
            " 9   Cast        1833 non-null   object \n",
            " 10  Director    1833 non-null   object \n",
            "dtypes: float64(3), int64(2), object(6)\n",
            "memory usage: 167.7+ KB\n",
            "None\n"
          ]
        },
        {
          "output_type": "execute_result",
          "data": {
            "text/plain": [
              "   Unnamed: 0                   Moive Name  Rating     Votes  Meta Score  \\\n",
              "0           0       Leave the World Behind     6.5   90000.0        67.0   \n",
              "1           1                        Wonka     7.4   24000.0        66.0   \n",
              "2           2                  Poor Things     8.5    6700.0        86.0   \n",
              "3           3   Killers of the Flower Moon     7.8  128000.0        89.0   \n",
              "4           4                 May December     7.0   21000.0        85.0   \n",
              "\n",
              "                       Genre PG Rating  Year Duration  \\\n",
              "0   Drama, Mystery, Thriller         R  2023   2h 18m   \n",
              "1  Adventure, Comedy, Family        PG  2023   1h 56m   \n",
              "2     Comedy, Drama, Romance         R  2023   2h 21m   \n",
              "3      Crime, Drama, History         R  2023   3h 26m   \n",
              "4              Comedy, Drama         R  2023   1h 57m   \n",
              "\n",
              "                                                Cast          Director  \n",
              "0  Julia Roberts, Mahershala Ali, Ethan Hawke, My...        Sam Esmail  \n",
              "1  Timothée Chalamet, Gustave Die, Murray McArthu...         Paul King  \n",
              "2  Emma Stone, Mark Ruffalo, Willem Dafoe, Ramy Y...  Yorgos Lanthimos  \n",
              "3  Leonardo DiCaprio, Robert De Niro, Lily Gladst...   Martin Scorsese  \n",
              "4  Natalie Portman, Chris Tenzis, Charles Melton,...       Todd Haynes  "
            ],
            "text/html": [
              "\n",
              "  <div id=\"df-a2dcf869-b8c3-43af-981a-bee62c0c9bc3\" class=\"colab-df-container\">\n",
              "    <div>\n",
              "<style scoped>\n",
              "    .dataframe tbody tr th:only-of-type {\n",
              "        vertical-align: middle;\n",
              "    }\n",
              "\n",
              "    .dataframe tbody tr th {\n",
              "        vertical-align: top;\n",
              "    }\n",
              "\n",
              "    .dataframe thead th {\n",
              "        text-align: right;\n",
              "    }\n",
              "</style>\n",
              "<table border=\"1\" class=\"dataframe\">\n",
              "  <thead>\n",
              "    <tr style=\"text-align: right;\">\n",
              "      <th></th>\n",
              "      <th>Unnamed: 0</th>\n",
              "      <th>Moive Name</th>\n",
              "      <th>Rating</th>\n",
              "      <th>Votes</th>\n",
              "      <th>Meta Score</th>\n",
              "      <th>Genre</th>\n",
              "      <th>PG Rating</th>\n",
              "      <th>Year</th>\n",
              "      <th>Duration</th>\n",
              "      <th>Cast</th>\n",
              "      <th>Director</th>\n",
              "    </tr>\n",
              "  </thead>\n",
              "  <tbody>\n",
              "    <tr>\n",
              "      <th>0</th>\n",
              "      <td>0</td>\n",
              "      <td>Leave the World Behind</td>\n",
              "      <td>6.5</td>\n",
              "      <td>90000.0</td>\n",
              "      <td>67.0</td>\n",
              "      <td>Drama, Mystery, Thriller</td>\n",
              "      <td>R</td>\n",
              "      <td>2023</td>\n",
              "      <td>2h 18m</td>\n",
              "      <td>Julia Roberts, Mahershala Ali, Ethan Hawke, My...</td>\n",
              "      <td>Sam Esmail</td>\n",
              "    </tr>\n",
              "    <tr>\n",
              "      <th>1</th>\n",
              "      <td>1</td>\n",
              "      <td>Wonka</td>\n",
              "      <td>7.4</td>\n",
              "      <td>24000.0</td>\n",
              "      <td>66.0</td>\n",
              "      <td>Adventure, Comedy, Family</td>\n",
              "      <td>PG</td>\n",
              "      <td>2023</td>\n",
              "      <td>1h 56m</td>\n",
              "      <td>Timothée Chalamet, Gustave Die, Murray McArthu...</td>\n",
              "      <td>Paul King</td>\n",
              "    </tr>\n",
              "    <tr>\n",
              "      <th>2</th>\n",
              "      <td>2</td>\n",
              "      <td>Poor Things</td>\n",
              "      <td>8.5</td>\n",
              "      <td>6700.0</td>\n",
              "      <td>86.0</td>\n",
              "      <td>Comedy, Drama, Romance</td>\n",
              "      <td>R</td>\n",
              "      <td>2023</td>\n",
              "      <td>2h 21m</td>\n",
              "      <td>Emma Stone, Mark Ruffalo, Willem Dafoe, Ramy Y...</td>\n",
              "      <td>Yorgos Lanthimos</td>\n",
              "    </tr>\n",
              "    <tr>\n",
              "      <th>3</th>\n",
              "      <td>3</td>\n",
              "      <td>Killers of the Flower Moon</td>\n",
              "      <td>7.8</td>\n",
              "      <td>128000.0</td>\n",
              "      <td>89.0</td>\n",
              "      <td>Crime, Drama, History</td>\n",
              "      <td>R</td>\n",
              "      <td>2023</td>\n",
              "      <td>3h 26m</td>\n",
              "      <td>Leonardo DiCaprio, Robert De Niro, Lily Gladst...</td>\n",
              "      <td>Martin Scorsese</td>\n",
              "    </tr>\n",
              "    <tr>\n",
              "      <th>4</th>\n",
              "      <td>4</td>\n",
              "      <td>May December</td>\n",
              "      <td>7.0</td>\n",
              "      <td>21000.0</td>\n",
              "      <td>85.0</td>\n",
              "      <td>Comedy, Drama</td>\n",
              "      <td>R</td>\n",
              "      <td>2023</td>\n",
              "      <td>1h 57m</td>\n",
              "      <td>Natalie Portman, Chris Tenzis, Charles Melton,...</td>\n",
              "      <td>Todd Haynes</td>\n",
              "    </tr>\n",
              "  </tbody>\n",
              "</table>\n",
              "</div>\n",
              "    <div class=\"colab-df-buttons\">\n",
              "\n",
              "  <div class=\"colab-df-container\">\n",
              "    <button class=\"colab-df-convert\" onclick=\"convertToInteractive('df-a2dcf869-b8c3-43af-981a-bee62c0c9bc3')\"\n",
              "            title=\"Convert this dataframe to an interactive table.\"\n",
              "            style=\"display:none;\">\n",
              "\n",
              "  <svg xmlns=\"http://www.w3.org/2000/svg\" height=\"24px\" viewBox=\"0 -960 960 960\">\n",
              "    <path d=\"M120-120v-720h720v720H120Zm60-500h600v-160H180v160Zm220 220h160v-160H400v160Zm0 220h160v-160H400v160ZM180-400h160v-160H180v160Zm440 0h160v-160H620v160ZM180-180h160v-160H180v160Zm440 0h160v-160H620v160Z\"/>\n",
              "  </svg>\n",
              "    </button>\n",
              "\n",
              "  <style>\n",
              "    .colab-df-container {\n",
              "      display:flex;\n",
              "      gap: 12px;\n",
              "    }\n",
              "\n",
              "    .colab-df-convert {\n",
              "      background-color: #E8F0FE;\n",
              "      border: none;\n",
              "      border-radius: 50%;\n",
              "      cursor: pointer;\n",
              "      display: none;\n",
              "      fill: #1967D2;\n",
              "      height: 32px;\n",
              "      padding: 0 0 0 0;\n",
              "      width: 32px;\n",
              "    }\n",
              "\n",
              "    .colab-df-convert:hover {\n",
              "      background-color: #E2EBFA;\n",
              "      box-shadow: 0px 1px 2px rgba(60, 64, 67, 0.3), 0px 1px 3px 1px rgba(60, 64, 67, 0.15);\n",
              "      fill: #174EA6;\n",
              "    }\n",
              "\n",
              "    .colab-df-buttons div {\n",
              "      margin-bottom: 4px;\n",
              "    }\n",
              "\n",
              "    [theme=dark] .colab-df-convert {\n",
              "      background-color: #3B4455;\n",
              "      fill: #D2E3FC;\n",
              "    }\n",
              "\n",
              "    [theme=dark] .colab-df-convert:hover {\n",
              "      background-color: #434B5C;\n",
              "      box-shadow: 0px 1px 3px 1px rgba(0, 0, 0, 0.15);\n",
              "      filter: drop-shadow(0px 1px 2px rgba(0, 0, 0, 0.3));\n",
              "      fill: #FFFFFF;\n",
              "    }\n",
              "  </style>\n",
              "\n",
              "    <script>\n",
              "      const buttonEl =\n",
              "        document.querySelector('#df-a2dcf869-b8c3-43af-981a-bee62c0c9bc3 button.colab-df-convert');\n",
              "      buttonEl.style.display =\n",
              "        google.colab.kernel.accessAllowed ? 'block' : 'none';\n",
              "\n",
              "      async function convertToInteractive(key) {\n",
              "        const element = document.querySelector('#df-a2dcf869-b8c3-43af-981a-bee62c0c9bc3');\n",
              "        const dataTable =\n",
              "          await google.colab.kernel.invokeFunction('convertToInteractive',\n",
              "                                                    [key], {});\n",
              "        if (!dataTable) return;\n",
              "\n",
              "        const docLinkHtml = 'Like what you see? Visit the ' +\n",
              "          '<a target=\"_blank\" href=https://colab.research.google.com/notebooks/data_table.ipynb>data table notebook</a>'\n",
              "          + ' to learn more about interactive tables.';\n",
              "        element.innerHTML = '';\n",
              "        dataTable['output_type'] = 'display_data';\n",
              "        await google.colab.output.renderOutput(dataTable, element);\n",
              "        const docLink = document.createElement('div');\n",
              "        docLink.innerHTML = docLinkHtml;\n",
              "        element.appendChild(docLink);\n",
              "      }\n",
              "    </script>\n",
              "  </div>\n",
              "\n",
              "\n",
              "<div id=\"df-ff376968-ac42-4d37-8f9d-8806d175a416\">\n",
              "  <button class=\"colab-df-quickchart\" onclick=\"quickchart('df-ff376968-ac42-4d37-8f9d-8806d175a416')\"\n",
              "            title=\"Suggest charts\"\n",
              "            style=\"display:none;\">\n",
              "\n",
              "<svg xmlns=\"http://www.w3.org/2000/svg\" height=\"24px\"viewBox=\"0 0 24 24\"\n",
              "     width=\"24px\">\n",
              "    <g>\n",
              "        <path d=\"M19 3H5c-1.1 0-2 .9-2 2v14c0 1.1.9 2 2 2h14c1.1 0 2-.9 2-2V5c0-1.1-.9-2-2-2zM9 17H7v-7h2v7zm4 0h-2V7h2v10zm4 0h-2v-4h2v4z\"/>\n",
              "    </g>\n",
              "</svg>\n",
              "  </button>\n",
              "\n",
              "<style>\n",
              "  .colab-df-quickchart {\n",
              "      --bg-color: #E8F0FE;\n",
              "      --fill-color: #1967D2;\n",
              "      --hover-bg-color: #E2EBFA;\n",
              "      --hover-fill-color: #174EA6;\n",
              "      --disabled-fill-color: #AAA;\n",
              "      --disabled-bg-color: #DDD;\n",
              "  }\n",
              "\n",
              "  [theme=dark] .colab-df-quickchart {\n",
              "      --bg-color: #3B4455;\n",
              "      --fill-color: #D2E3FC;\n",
              "      --hover-bg-color: #434B5C;\n",
              "      --hover-fill-color: #FFFFFF;\n",
              "      --disabled-bg-color: #3B4455;\n",
              "      --disabled-fill-color: #666;\n",
              "  }\n",
              "\n",
              "  .colab-df-quickchart {\n",
              "    background-color: var(--bg-color);\n",
              "    border: none;\n",
              "    border-radius: 50%;\n",
              "    cursor: pointer;\n",
              "    display: none;\n",
              "    fill: var(--fill-color);\n",
              "    height: 32px;\n",
              "    padding: 0;\n",
              "    width: 32px;\n",
              "  }\n",
              "\n",
              "  .colab-df-quickchart:hover {\n",
              "    background-color: var(--hover-bg-color);\n",
              "    box-shadow: 0 1px 2px rgba(60, 64, 67, 0.3), 0 1px 3px 1px rgba(60, 64, 67, 0.15);\n",
              "    fill: var(--button-hover-fill-color);\n",
              "  }\n",
              "\n",
              "  .colab-df-quickchart-complete:disabled,\n",
              "  .colab-df-quickchart-complete:disabled:hover {\n",
              "    background-color: var(--disabled-bg-color);\n",
              "    fill: var(--disabled-fill-color);\n",
              "    box-shadow: none;\n",
              "  }\n",
              "\n",
              "  .colab-df-spinner {\n",
              "    border: 2px solid var(--fill-color);\n",
              "    border-color: transparent;\n",
              "    border-bottom-color: var(--fill-color);\n",
              "    animation:\n",
              "      spin 1s steps(1) infinite;\n",
              "  }\n",
              "\n",
              "  @keyframes spin {\n",
              "    0% {\n",
              "      border-color: transparent;\n",
              "      border-bottom-color: var(--fill-color);\n",
              "      border-left-color: var(--fill-color);\n",
              "    }\n",
              "    20% {\n",
              "      border-color: transparent;\n",
              "      border-left-color: var(--fill-color);\n",
              "      border-top-color: var(--fill-color);\n",
              "    }\n",
              "    30% {\n",
              "      border-color: transparent;\n",
              "      border-left-color: var(--fill-color);\n",
              "      border-top-color: var(--fill-color);\n",
              "      border-right-color: var(--fill-color);\n",
              "    }\n",
              "    40% {\n",
              "      border-color: transparent;\n",
              "      border-right-color: var(--fill-color);\n",
              "      border-top-color: var(--fill-color);\n",
              "    }\n",
              "    60% {\n",
              "      border-color: transparent;\n",
              "      border-right-color: var(--fill-color);\n",
              "    }\n",
              "    80% {\n",
              "      border-color: transparent;\n",
              "      border-right-color: var(--fill-color);\n",
              "      border-bottom-color: var(--fill-color);\n",
              "    }\n",
              "    90% {\n",
              "      border-color: transparent;\n",
              "      border-bottom-color: var(--fill-color);\n",
              "    }\n",
              "  }\n",
              "</style>\n",
              "\n",
              "  <script>\n",
              "    async function quickchart(key) {\n",
              "      const quickchartButtonEl =\n",
              "        document.querySelector('#' + key + ' button');\n",
              "      quickchartButtonEl.disabled = true;  // To prevent multiple clicks.\n",
              "      quickchartButtonEl.classList.add('colab-df-spinner');\n",
              "      try {\n",
              "        const charts = await google.colab.kernel.invokeFunction(\n",
              "            'suggestCharts', [key], {});\n",
              "      } catch (error) {\n",
              "        console.error('Error during call to suggestCharts:', error);\n",
              "      }\n",
              "      quickchartButtonEl.classList.remove('colab-df-spinner');\n",
              "      quickchartButtonEl.classList.add('colab-df-quickchart-complete');\n",
              "    }\n",
              "    (() => {\n",
              "      let quickchartButtonEl =\n",
              "        document.querySelector('#df-ff376968-ac42-4d37-8f9d-8806d175a416 button');\n",
              "      quickchartButtonEl.style.display =\n",
              "        google.colab.kernel.accessAllowed ? 'block' : 'none';\n",
              "    })();\n",
              "  </script>\n",
              "</div>\n",
              "\n",
              "    </div>\n",
              "  </div>\n"
            ],
            "application/vnd.google.colaboratory.intrinsic+json": {
              "type": "dataframe",
              "variable_name": "df",
              "summary": "{\n  \"name\": \"df\",\n  \"rows\": 1950,\n  \"fields\": [\n    {\n      \"column\": \"Unnamed: 0\",\n      \"properties\": {\n        \"dtype\": \"number\",\n        \"std\": 563,\n        \"min\": 0,\n        \"max\": 1949,\n        \"num_unique_values\": 1950,\n        \"samples\": [\n          1614,\n          1405,\n          974\n        ],\n        \"semantic_type\": \"\",\n        \"description\": \"\"\n      }\n    },\n    {\n      \"column\": \"Moive Name\",\n      \"properties\": {\n        \"dtype\": \"string\",\n        \"num_unique_values\": 1914,\n        \"samples\": [\n          \" Bridesmaids\",\n          \" Gladiator\",\n          \" The Punisher\"\n        ],\n        \"semantic_type\": \"\",\n        \"description\": \"\"\n      }\n    },\n    {\n      \"column\": \"Rating\",\n      \"properties\": {\n        \"dtype\": \"number\",\n        \"std\": 0.929199924994033,\n        \"min\": 2.4,\n        \"max\": 9.3,\n        \"num_unique_values\": 63,\n        \"samples\": [\n          2.4,\n          4.5,\n          6.5\n        ],\n        \"semantic_type\": \"\",\n        \"description\": \"\"\n      }\n    },\n    {\n      \"column\": \"Votes\",\n      \"properties\": {\n        \"dtype\": \"number\",\n        \"std\": 314217.1463569781,\n        \"min\": 19.0,\n        \"max\": 2800000.0,\n        \"num_unique_values\": 731,\n        \"samples\": [\n          416000.0,\n          78000.0,\n          584000.0\n        ],\n        \"semantic_type\": \"\",\n        \"description\": \"\"\n      }\n    },\n    {\n      \"column\": \"Meta Score\",\n      \"properties\": {\n        \"dtype\": \"number\",\n        \"std\": 16.56178433322967,\n        \"min\": 14.0,\n        \"max\": 100.0,\n        \"num_unique_values\": 86,\n        \"samples\": [\n          16.0,\n          67.0,\n          98.0\n        ],\n        \"semantic_type\": \"\",\n        \"description\": \"\"\n      }\n    },\n    {\n      \"column\": \"Genre\",\n      \"properties\": {\n        \"dtype\": \"category\",\n        \"num_unique_values\": 242,\n        \"samples\": [\n          \"Adventure, Comedy, Crime\",\n          \"Action, Adventure, Biography\",\n          \"Comedy, Thriller\"\n        ],\n        \"semantic_type\": \"\",\n        \"description\": \"\"\n      }\n    },\n    {\n      \"column\": \"PG Rating\",\n      \"properties\": {\n        \"dtype\": \"category\",\n        \"num_unique_values\": 18,\n        \"samples\": [\n          \"R\",\n          \"PG\",\n          \"TV-MA\"\n        ],\n        \"semantic_type\": \"\",\n        \"description\": \"\"\n      }\n    },\n    {\n      \"column\": \"Year\",\n      \"properties\": {\n        \"dtype\": \"number\",\n        \"std\": 15,\n        \"min\": 1938,\n        \"max\": 2023,\n        \"num_unique_values\": 83,\n        \"samples\": [\n          2015,\n          2023,\n          2019\n        ],\n        \"semantic_type\": \"\",\n        \"description\": \"\"\n      }\n    },\n    {\n      \"column\": \"Duration\",\n      \"properties\": {\n        \"dtype\": \"category\",\n        \"num_unique_values\": 125,\n        \"samples\": [\n          \"2h 10m\",\n          \"2h 35m\",\n          \"2h 4m\"\n        ],\n        \"semantic_type\": \"\",\n        \"description\": \"\"\n      }\n    },\n    {\n      \"column\": \"Cast\",\n      \"properties\": {\n        \"dtype\": \"string\",\n        \"num_unique_values\": 1823,\n        \"samples\": [\n          \"Robert Downey Jr., Gwyneth Paltrow, Terrence Howard, Jeff Bridges\",\n          \"Antonio Banderas, Angelina Jolie, Thomas Jane, Jack Thompson\",\n          \"Topol, Norma Crane, Leonard Frey, Molly Picon\"\n        ],\n        \"semantic_type\": \"\",\n        \"description\": \"\"\n      }\n    },\n    {\n      \"column\": \"Director\",\n      \"properties\": {\n        \"dtype\": \"category\",\n        \"num_unique_values\": 962,\n        \"samples\": [\n          \"Mike MitchellWalt Dohrn\",\n          \"Jonathan Glazer\",\n          \"Luke Greenfield\"\n        ],\n        \"semantic_type\": \"\",\n        \"description\": \"\"\n      }\n    }\n  ]\n}"
            }
          },
          "metadata": {},
          "execution_count": 3
        }
      ]
    },
    {
      "cell_type": "code",
      "source": [
        "# Display column names\n",
        "print(df.columns)\n"
      ],
      "metadata": {
        "colab": {
          "base_uri": "https://localhost:8080/"
        },
        "id": "jbE5W-zIzvzC",
        "outputId": "ff6a3e1e-9ac8-4ada-d0ef-345a3de5c0e6"
      },
      "execution_count": null,
      "outputs": [
        {
          "output_type": "stream",
          "name": "stdout",
          "text": [
            "Index(['Unnamed: 0', 'Moive Name', 'Rating', 'Votes', 'Meta Score', 'Genre',\n",
            "       'PG Rating', 'Year', 'Duration', 'Cast', 'Director'],\n",
            "      dtype='object')\n"
          ]
        }
      ]
    },
    {
      "cell_type": "code",
      "source": [
        "# Drop unnecessary columns, if they exist\n",
        "if 'Unnamed: 0' in df.columns:\n",
        "    df = df.drop(columns=[\"Unnamed: 0\"])\n",
        "else:\n",
        "    print(\"Column 'Unnamed: 0' not found in DataFrame.\")\n",
        "\n",
        "# Continue with the rest of your code\n",
        "print(df.isnull().sum())\n",
        "\n",
        "# Fill or drop missing values (if needed)\n",
        "df = df.dropna()  # OR fill with appropriate values if needed"
      ],
      "metadata": {
        "colab": {
          "base_uri": "https://localhost:8080/"
        },
        "id": "yd5v_Qbb0Kc7",
        "outputId": "13814bd7-9d5d-4584-a452-adcb9e7651b2"
      },
      "execution_count": null,
      "outputs": [
        {
          "output_type": "stream",
          "name": "stdout",
          "text": [
            "Column 'Unnamed: 0' not found in DataFrame.\n",
            "Moive Name    0\n",
            "Rating        0\n",
            "Votes         0\n",
            "Meta Score    0\n",
            "Genre         0\n",
            "PG Rating     0\n",
            "Year          0\n",
            "Duration      0\n",
            "Cast          0\n",
            "Director      0\n",
            "dtype: int64\n"
          ]
        }
      ]
    },
    {
      "cell_type": "code",
      "source": [
        "# Check percentage of missing values\n",
        "missing_percentage = df.isnull().sum() / len(df) * 100\n",
        "print(missing_percentage)\n"
      ],
      "metadata": {
        "colab": {
          "base_uri": "https://localhost:8080/"
        },
        "id": "G23HrA4h0oSw",
        "outputId": "d0c86457-114e-4340-8827-ed9ffc50441e"
      },
      "execution_count": null,
      "outputs": [
        {
          "output_type": "stream",
          "name": "stdout",
          "text": [
            "Moive Name    0.0\n",
            "Rating        0.0\n",
            "Votes         0.0\n",
            "Meta Score    0.0\n",
            "Genre         0.0\n",
            "PG Rating     0.0\n",
            "Year          0.0\n",
            "Duration      0.0\n",
            "Cast          0.0\n",
            "Director      0.0\n",
            "dtype: float64\n"
          ]
        }
      ]
    },
    {
      "cell_type": "code",
      "source": [
        "df[\"Meta Score\"].fillna(df[\"Meta Score\"].median(), inplace=True)  # Filling with median score\n",
        "df[\"PG Rating\"].fillna(\"Not Rated\", inplace=True)  # Filling categorical values\n"
      ],
      "metadata": {
        "colab": {
          "base_uri": "https://localhost:8080/"
        },
        "id": "k1jRJBgH0077",
        "outputId": "3ce10697-ea52-42d6-888e-abba5e9cf20c"
      },
      "execution_count": null,
      "outputs": [
        {
          "output_type": "stream",
          "name": "stderr",
          "text": [
            "<ipython-input-7-c5a9deff7ee9>:1: FutureWarning: A value is trying to be set on a copy of a DataFrame or Series through chained assignment using an inplace method.\n",
            "The behavior will change in pandas 3.0. This inplace method will never work because the intermediate object on which we are setting values always behaves as a copy.\n",
            "\n",
            "For example, when doing 'df[col].method(value, inplace=True)', try using 'df.method({col: value}, inplace=True)' or df[col] = df[col].method(value) instead, to perform the operation inplace on the original object.\n",
            "\n",
            "\n",
            "  df[\"Meta Score\"].fillna(df[\"Meta Score\"].median(), inplace=True)  # Filling with median score\n",
            "<ipython-input-7-c5a9deff7ee9>:2: FutureWarning: A value is trying to be set on a copy of a DataFrame or Series through chained assignment using an inplace method.\n",
            "The behavior will change in pandas 3.0. This inplace method will never work because the intermediate object on which we are setting values always behaves as a copy.\n",
            "\n",
            "For example, when doing 'df[col].method(value, inplace=True)', try using 'df.method({col: value}, inplace=True)' or df[col] = df[col].method(value) instead, to perform the operation inplace on the original object.\n",
            "\n",
            "\n",
            "  df[\"PG Rating\"].fillna(\"Not Rated\", inplace=True)  # Filling categorical values\n"
          ]
        }
      ]
    },
    {
      "cell_type": "code",
      "source": [
        "# Split genres into separate categories\n",
        "df[\"Genre\"] = df[\"Genre\"].str.split(\", \")  # Convert genre string into a list\n",
        "\n",
        "# Convert genres into individual columns (One-Hot Encoding)\n",
        "from sklearn.preprocessing import MultiLabelBinarizer\n",
        "\n",
        "mlb = MultiLabelBinarizer()\n",
        "genres_encoded = pd.DataFrame(mlb.fit_transform(df[\"Genre\"]), columns=mlb.classes_)\n",
        "\n",
        "# Merge back into the main dataframe\n",
        "df = df.join(genres_encoded)\n",
        "df.drop(columns=[\"Genre\"], inplace=True)  # Drop the original Genre column\n"
      ],
      "metadata": {
        "id": "sYWaMkQn078j"
      },
      "execution_count": null,
      "outputs": []
    },
    {
      "cell_type": "code",
      "source": [
        "from sklearn.feature_extraction.text import TfidfVectorizer\n",
        "\n",
        "# Convert Cast and Director into text format\n",
        "df[\"Cast\"] = df[\"Cast\"].fillna(\"\")  # Fill missing values\n",
        "df[\"Director\"] = df[\"Director\"].fillna(\"\")\n",
        "\n",
        "# Combine Cast and Director into a single feature\n",
        "df[\"Cast_Director\"] = df[\"Cast\"] + \" \" + df[\"Director\"]\n",
        "\n",
        "# Apply TF-IDF Vectorization\n",
        "tfidf = TfidfVectorizer(stop_words=\"english\")\n",
        "tfidf_matrix = tfidf.fit_transform(df[\"Cast_Director\"])\n"
      ],
      "metadata": {
        "id": "gyBq6rA21b9t"
      },
      "execution_count": null,
      "outputs": []
    },
    {
      "cell_type": "code",
      "source": [
        "from sklearn.metrics.pairwise import cosine_similarity\n",
        "import numpy as np\n",
        "\n",
        "# Compute cosine similarity between TF-IDF vectors (Cast + Director)\n",
        "cosine_sim_cast_director = cosine_similarity(tfidf_matrix, tfidf_matrix)\n",
        "\n",
        "# Compute cosine similarity for genres\n",
        "cosine_sim_genre = cosine_similarity(genres_encoded, genres_encoded)\n",
        "\n",
        "# Combine both similarity scores (weighted average)\n",
        "cosine_sim = (cosine_sim_cast_director * 0.7) + (cosine_sim_genre * 0.3)\n"
      ],
      "metadata": {
        "id": "BgLXy74D1ftk"
      },
      "execution_count": null,
      "outputs": []
    },
    {
      "cell_type": "code",
      "source": [
        "def recommend_movies(movie_title, df, cosine_sim, top_n=10):\n",
        "    # Get the index of the movie\n",
        "    indices = pd.Series(df.index, index=df[\"Moive Name\"]).drop_duplicates()\n",
        "\n",
        "    if movie_title not in indices:\n",
        "        return \"Movie not found in dataset.\"\n",
        "\n",
        "    idx = indices[movie_title]\n",
        "\n",
        "    # Get similarity scores for all movies\n",
        "    sim_scores = list(enumerate(cosine_sim[idx]))\n",
        "\n",
        "    # Sort movies based on similarity scores\n",
        "    sim_scores = sorted(sim_scores, key=lambda x: x[1], reverse=True)\n",
        "\n",
        "    # Get the top N most similar movies (excluding the input movie)\n",
        "    sim_scores = sim_scores[1:top_n+1]\n",
        "\n",
        "    # Get movie indices\n",
        "    movie_indices = [i[0] for i in sim_scores]\n",
        "\n",
        "    # Return the top recommended movie names\n",
        "    return df[\"Moive Name\"].iloc[movie_indices].tolist()\n"
      ],
      "metadata": {
        "id": "OQh5UrOz1wi1"
      },
      "execution_count": null,
      "outputs": []
    },
    {
      "cell_type": "code",
      "source": [
        "print(df[\"Moive Name\"].head(10))  # Check first 10 movie titles\n"
      ],
      "metadata": {
        "colab": {
          "base_uri": "https://localhost:8080/"
        },
        "id": "xcSrINbk13jv",
        "outputId": "4c1a75be-72d6-4c77-a165-b8cd6931ef3a"
      },
      "execution_count": null,
      "outputs": [
        {
          "output_type": "stream",
          "name": "stdout",
          "text": [
            "0                               Leave the World Behind\n",
            "1                                                Wonka\n",
            "2                                          Poor Things\n",
            "3                           Killers of the Flower Moon\n",
            "4                                         May December\n",
            "5     The Hunger Games: The Ballad of Songbirds & S...\n",
            "6                                             Napoleon\n",
            "7                                          Oppenheimer\n",
            "8                                        Love Actually\n",
            "9                                      Candy Cane Lane\n",
            "Name: Moive Name, dtype: object\n"
          ]
        }
      ]
    },
    {
      "cell_type": "code",
      "source": [
        "# Rename column if needed\n",
        "df.rename(columns={\"Moive Name\": \"Movie Name\"}, inplace=True)\n",
        "\n",
        "# Convert all movie names to lowercase and remove extra spaces\n",
        "df[\"Movie Name\"] = df[\"Movie Name\"].str.strip().str.lower()\n"
      ],
      "metadata": {
        "id": "z3CW8CS22Gw-"
      },
      "execution_count": null,
      "outputs": []
    },
    {
      "cell_type": "code",
      "source": [
        "print(df.columns)\n"
      ],
      "metadata": {
        "colab": {
          "base_uri": "https://localhost:8080/"
        },
        "id": "vfZUxyyv2ceo",
        "outputId": "ae108167-3aec-4681-bd03-2592ecddc23d"
      },
      "execution_count": null,
      "outputs": [
        {
          "output_type": "stream",
          "name": "stdout",
          "text": [
            "Index(['Movie Name', 'Rating', 'Votes', 'Meta Score', 'PG Rating', 'Year',\n",
            "       'Duration', 'Cast', 'Director', 'Action', 'Adventure', 'Animation',\n",
            "       'Biography', 'Comedy', 'Crime', 'Documentary', 'Drama', 'Family',\n",
            "       'Fantasy', 'History', 'Horror', 'Music', 'Musical', 'Mystery',\n",
            "       'Romance', 'Sci-Fi', 'Sport', 'Thriller', 'War', 'Western',\n",
            "       'Cast_Director'],\n",
            "      dtype='object')\n"
          ]
        }
      ]
    },
    {
      "cell_type": "code",
      "source": [
        "def recommend_movies(movie_title, df, cosine_sim, top_n=10):\n",
        "    # Convert input movie title to lowercase and strip spaces\n",
        "    movie_title = movie_title.strip().lower()\n",
        "\n",
        "    # Create a mapping of lowercase movie names to their indices\n",
        "    indices = pd.Series(df.index, index=df[\"Movie Name\"].str.lower()).drop_duplicates()\n",
        "\n",
        "    # Check if movie exists\n",
        "    if movie_title not in indices:\n",
        "        return \"Movie not found in dataset.\"\n",
        "\n",
        "    idx = indices[movie_title]\n",
        "\n",
        "    # Get similarity scores for all movies\n",
        "    sim_scores = list(enumerate(cosine_sim[idx]))\n",
        "\n",
        "    # Sort movies based on similarity scores\n",
        "    sim_scores = sorted(sim_scores, key=lambda x: x[1], reverse=True)\n",
        "\n",
        "    # Get the top N most similar movies (excluding the input movie)\n",
        "    sim_scores = sim_scores[1:top_n+1]\n",
        "\n",
        "    # Get movie indices\n",
        "    movie_indices = [i[0] for i in sim_scores]\n",
        "\n",
        "    # Return the top recommended movie names\n",
        "    return df[\"Movie Name\"].iloc[movie_indices].tolist()\n"
      ],
      "metadata": {
        "id": "5Y48ZbNu2xAL"
      },
      "execution_count": null,
      "outputs": []
    },
    {
      "cell_type": "code",
      "source": [
        "recommend_movies(\"inception\", df, cosine_sim, top_n=5)\n"
      ],
      "metadata": {
        "colab": {
          "base_uri": "https://localhost:8080/"
        },
        "id": "XQLdO71E3Haj",
        "outputId": "683f090d-b500-402c-fe6f-078fb802d4dc"
      },
      "execution_count": null,
      "outputs": [
        {
          "output_type": "execute_result",
          "data": {
            "text/plain": [
              "['hereditary',\n",
              " 'beau is afraid',\n",
              " 'brightburn',\n",
              " 'the invisible man',\n",
              " \"don't worry darling\"]"
            ]
          },
          "metadata": {},
          "execution_count": 20
        }
      ]
    },
    {
      "cell_type": "code",
      "source": [
        "recommend_movies(\"top gun\",df,cosine_sim, top_n=5)"
      ],
      "metadata": {
        "colab": {
          "base_uri": "https://localhost:8080/"
        },
        "id": "cNAPWE943LaS",
        "outputId": "f1f3c0d0-6146-4bc3-f001-932ddbe5d187"
      },
      "execution_count": null,
      "outputs": [
        {
          "output_type": "execute_result",
          "data": {
            "text/plain": [
              "['jojo rabbit', 'slap shot', 'champions', 'somewhere in queens', 'creed iii']"
            ]
          },
          "metadata": {},
          "execution_count": 23
        }
      ]
    },
    {
      "cell_type": "code",
      "source": [
        "import numpy as np\n",
        "\n",
        "def recommend_movies(movie_title, df, cosine_sim, top_n=10):\n",
        "    # Convert input movie title to lowercase and strip spaces\n",
        "    movie_title = movie_title.strip().lower()\n",
        "\n",
        "    # Create a mapping of lowercase movie names to their indices\n",
        "    indices = pd.Series(df.index, index=df[\"Movie Name\"].str.lower()).drop_duplicates()\n",
        "\n",
        "    if movie_title not in indices:\n",
        "        return \"Movie not found in dataset.\"\n",
        "\n",
        "    idx = indices[movie_title]\n",
        "\n",
        "    # Get similarity scores for all movies\n",
        "    sim_scores = list(enumerate(cosine_sim[idx]))\n",
        "\n",
        "    # Sort movies based on similarity scores\n",
        "    sim_scores = sorted(sim_scores, key=lambda x: x[1], reverse=True)\n",
        "\n",
        "    # Get movie indices\n",
        "    movie_indices = [i[0] for i in sim_scores]\n",
        "\n",
        "    # Filter based on high ratings and votes\n",
        "    df_filtered = df.loc[movie_indices].copy()\n",
        "\n",
        "    # Normalize ratings and votes\n",
        "    df_filtered[\"Rating\"] = df_filtered[\"Rating\"].astype(float)\n",
        "    df_filtered[\"Votes\"] = df_filtered[\"Votes\"].astype(int)\n",
        "\n",
        "    max_rating = df_filtered[\"Rating\"].max()\n",
        "    max_votes = df_filtered[\"Votes\"].max()\n",
        "\n",
        "    df_filtered[\"Weighted_Score\"] = (df_filtered[\"Rating\"] / max_rating) * 0.7 + (df_filtered[\"Votes\"] / max_votes) * 0.3\n",
        "\n",
        "    # Sort by the new weighted score\n",
        "    df_filtered = df_filtered.sort_values(by=\"Weighted_Score\", ascending=False)\n",
        "\n",
        "    return df_filtered[\"Movie Name\"].head(top_n).tolist()\n"
      ],
      "metadata": {
        "id": "8s8N5yFR3kai"
      },
      "execution_count": null,
      "outputs": []
    },
    {
      "cell_type": "code",
      "source": [
        "import numpy as np\n",
        "\n",
        "def recommend_movies(movie_title, df, cosine_sim, top_n=10):\n",
        "    # Convert input movie title to lowercase and strip spaces\n",
        "    movie_title = movie_title.strip().lower()\n",
        "\n",
        "    # Create a mapping of lowercase movie names to their indices\n",
        "    indices = pd.Series(df.index, index=df[\"Movie Name\"].str.lower()).drop_duplicates()\n",
        "\n",
        "    if movie_title not in indices:\n",
        "        return \"Movie not found in dataset.\"\n",
        "\n",
        "    idx = indices[movie_title]\n",
        "\n",
        "    # Get similarity scores for all movies\n",
        "    sim_scores = list(enumerate(cosine_sim[idx]))\n",
        "\n",
        "    # Sort movies based on similarity scores\n",
        "    sim_scores = sorted(sim_scores, key=lambda x: x[1], reverse=True)\n",
        "\n",
        "    # Get the top N most similar movies (excluding the input movie)\n",
        "    sim_scores = sim_scores[1:top_n+1]\n",
        "\n",
        "    # Get movie indices\n",
        "    movie_indices = [i[0] for i in sim_scores]\n",
        "\n",
        "    # Filter based on high ratings and votes\n",
        "    # Instead of using loc with movie_indices, which might be from the original df index,\n",
        "    # filter sim_scores to only include indices present in the current df index\n",
        "\n",
        "    valid_movie_indices = [i for i in movie_indices if i in df.index]\n",
        "    df_filtered = df.loc[valid_movie_indices].copy() # Use valid indices for filtering\n",
        "\n",
        "    # Normalize ratings and votes\n",
        "    df_filtered[\"Rating\"] = df_filtered[\"Rating\"].astype(float)\n",
        "    df_filtered[\"Votes\"] = df_filtered[\"Votes\"].astype(int)\n",
        "\n",
        "    max_rating = df_filtered[\"Rating\"].max()\n",
        "    max_votes = df_filtered[\"Votes\"].max()\n",
        "\n",
        "    df_filtered[\"Weighted_Score\"] = (df_filtered[\"Rating\"] / max_rating) * 0.7 + (df_filtered[\"Votes\"] / max_votes) * 0.3\n",
        "\n",
        "    # Sort by the new weighted score\n",
        "    df_filtered = df_filtered.sort_values(by=\"Weighted_Score\", ascending=False)\n",
        "\n",
        "    return df_filtered[\"Movie Name\"].head(top_n).tolist()\n"
      ],
      "metadata": {
        "id": "IhpPu3dI4Lty"
      },
      "execution_count": null,
      "outputs": []
    },
    {
      "cell_type": "code",
      "source": [
        "recommend_movies(\"inception\", df, cosine_sim, top_n=5)\n"
      ],
      "metadata": {
        "colab": {
          "base_uri": "https://localhost:8080/"
        },
        "id": "cXMQpgfp4PML",
        "outputId": "7d0adc98-40a3-4d7e-9088-6ad4874dd5b3"
      },
      "execution_count": null,
      "outputs": [
        {
          "output_type": "execute_result",
          "data": {
            "text/plain": [
              "['star wars: episode v - the empire strikes back',\n",
              " 'eternal sunshine of the spotless mind',\n",
              " 'old dads',\n",
              " 'good burger']"
            ]
          },
          "metadata": {},
          "execution_count": 27
        }
      ]
    }
  ]
}